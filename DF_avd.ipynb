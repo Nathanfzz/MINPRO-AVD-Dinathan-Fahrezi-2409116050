{
  "nbformat": 4,
  "nbformat_minor": 0,
  "metadata": {
    "colab": {
      "provenance": []
    },
    "kernelspec": {
      "name": "python3",
      "display_name": "Python 3"
    },
    "language_info": {
      "name": "python"
    }
  },
  "cells": [
    {
      "cell_type": "markdown",
      "source": [
        "##TOP 500 MOVIES BY PRODUCTION BUDGET##"
      ],
      "metadata": {
        "id": "c7lz-KtV_MYZ"
      }
    },
    {
      "cell_type": "markdown",
      "source": [
        "##BUSINESS UNDERSTANDING##"
      ],
      "metadata": {
        "id": "zIreCf6h1lDL"
      }
    },
    {
      "cell_type": "markdown",
      "source": [
        "#Business Objective#"
      ],
      "metadata": {
        "id": "DCr9jX-vAb4L"
      }
    },
    {
      "cell_type": "markdown",
      "source": [
        "Tujuan utama proyek ini adalah untuk mengetahui film dengan budget produksi terbesar yang akan digunakan untuk mendukung inovasi, kreatifitas, dan keberlangsungan dalam menjaga kualitas industri per film an. Hal ini meliputi budget produksi, hasil penjualan tiket film, genre film, waktu tayang, dan rating umur film. Hal ini dilakukan agar dapat meningkatkan efesiensi budget dan menetapkan target penonton yang tepat."
      ],
      "metadata": {
        "id": "7tDHQw_pA23O"
      }
    },
    {
      "cell_type": "markdown",
      "source": [
        "#Assess Situation#"
      ],
      "metadata": {
        "id": "swwmlgp01Xce"
      }
    },
    {
      "cell_type": "markdown",
      "source": [
        "Situasi bisnis yang mendasari analisis ini adalah karena industri film yang dinamis yang selalu berubah. Perubahan tren penonton, preferensi genre mengharuskan produsen film untuk memiliki pemahaman yang mendalam tentang kondisi industri film. Pada saat ini tidak serta merta hanya dengan mengeluarkan dana yang besar kita dapat langsung membuat film yang bisa meningkatkan penjualan tiket, kita harus tau preferensi genre yang diinginkan para penonton agar bisa berinovasi dan meningkatkan kualitas film sesuai dengan budget yang diperlukan"
      ],
      "metadata": {
        "id": "FxoXiyKp1vyS"
      }
    },
    {
      "cell_type": "markdown",
      "source": [
        "#Data Mining Goals#"
      ],
      "metadata": {
        "id": "vt8Teiz23b73"
      }
    },
    {
      "cell_type": "markdown",
      "source": [
        "Mengidentifikasi sejumlah film untuk mendapatkan data yang akan membantu efesiensi budget dan pertumbuhan berkelanjutan dengan mengamati budget produksi, hasil penjualan, waktu tayang, jumlah bioskop yang menayangkan, dan rating umur film untuk mendapatkan pemahaman yang lebih mendalam mengenai industri film"
      ],
      "metadata": {
        "id": "76kbbKSP3j3A"
      }
    },
    {
      "cell_type": "markdown",
      "source": [],
      "metadata": {
        "id": "0wv19HtE573V"
      }
    },
    {
      "cell_type": "markdown",
      "source": [
        "#Project Plan#"
      ],
      "metadata": {
        "id": "D0G9Vk8w8PTq"
      }
    },
    {
      "cell_type": "markdown",
      "source": [
        "Proyek ini bertujuan untuk menganalisis dan memberikan insight tentang tren industri film berdasarkan anggaran produksi, dengan menggunakan data dari 500 film dengan anggaran tertinggi. Dengan melihat hubungan antara anggaran produksi, pendapatan, genre, dan tahun rilis, kita bisa menganalisis pola-pola yang penting, seperti dampak judul besar, anggaran besar, jumlah bioskop, serta genre. Hasil analisis ini diharapkan dapat menjadi panduan bagi para produsen film dalam industri film untuk membuat keputusan strategis yang lebih terinformasi dan efektif."
      ],
      "metadata": {
        "id": "wMBWqzbt8cHM"
      }
    }
  ]
}